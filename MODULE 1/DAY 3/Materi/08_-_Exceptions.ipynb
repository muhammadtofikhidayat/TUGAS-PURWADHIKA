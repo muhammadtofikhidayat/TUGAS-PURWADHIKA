{
  "cells": [
    {
      "cell_type": "markdown",
      "id": "metadata",
      "metadata": {
        "collapsed": false,
        "editable": false
      },
      "source": [
        "# **Try & Except**\n",
        "Try/except adalah sebuah konstruksi dalam Python yang digunakan untuk menangkap sebuah potensi pengecualian. Terkadang ada yang tidak beres dalam kode Anda! Atau dalam kode orang lain dalam sebuah modul. Kadang-kadang beberapa kesalahan mungkin terjadi seperti ketika Anda mencoba membaca file yang disediakan pengguna, mungkin file tersebut tidak tersedia karena mereka telah menentukan jalur yang salah.\n",
        "\n",
        "____"
      ]
    },
    {
      "cell_type": "markdown",
      "id": "cell-0",
      "metadata": {
        "collapsed": false,
        "editable": false
      },
      "source": [
        "#### **1.0. Raise**\n",
        "\n",
        "Ketika Anda menulis kode, terkadang ada kesalahan yang perlu Anda tangani:\n",
        "* Jika Anda menghitung rata-rata dari sekumpulan angka, dan list nya kosong. Anda tidak ingin membagi dengan `len(numbers)` sehinggu memicu `ZeroDivisionError`.\n",
        "* Jika Anda sedang membuka sebuah file, ada kemungkinan file tersebut tidak ditemukan.\n",
        "\n",
        "Dengan menggunakan try/excepts, Anda dapat melakukannya:\n",
        "* Menyediakan pesan kesalahan yang lebih ramah dan berguna.\n",
        "* Menangani kasus kesalahan yang diharapkan.\n",
        "\n",
        "Sebagai contoh, kembali ke contoh fungsi `mean()`, apa yang harus dikembalikan oleh `mean([])` untuk fungsi yang menghitung rata-rata dari sebuah list angka. Haruskah ia mengembalikan 0? Mungkin seharusnya mengembalikan kesalahan. Mari kita lihat beberapa contoh kode:\n"
      ]
    },
    {
      "cell_type": "code",
      "execution_count": null,
      "id": "cell-1",
      "metadata": {
        "attributes": {
          "classes": [
            "> <agenda-title></agenda-title>"
          ],
          "id": ""
        }
      },
      "outputs": [],
      "source": [
        "def mean(numbers):\n",
        "    return sum(numbers) / len(numbers)\n",
        "\n",
        "mean([])"
      ]
    },
    {
      "cell_type": "markdown",
      "id": "cell-2",
      "metadata": {
        "collapsed": false,
        "editable": false
      },
      "source": [
        "Hal ini akan memunculkan `ZeroDivisionError`, namun kita dapat membuat pesan kesalahan yang lebih bersahabat dengan memunculkan pengecualian sendiri."
      ]
    },
    {
      "cell_type": "code",
      "execution_count": null,
      "id": "cell-3",
      "metadata": {
        "attributes": {
          "classes": [
            "> <agenda-title></agenda-title>"
          ],
          "id": ""
        }
      },
      "outputs": [],
      "source": [
        "def mean(numbers):\n",
        "    if not numbers:\n",
        "        raise ValueError(\"Anda menghitung rata-rata dari daftar kosong, yang tidak mungkin dilakukan.\")\n",
        "    return sum(numbers) / len(numbers)\n",
        "\n",
        "mean([1, 2, 3])"
      ]
    },
    {
      "cell_type": "markdown",
      "id": "cell-4",
      "metadata": {
        "collapsed": false,
        "editable": false
      },
      "source": [
        "Dari mana `ValueError`, `ZeroDivisionError` berasal?\n",
        "\n",
        "Ada banyak sekali jenis kode pengecualian yang berbeda! Dokumentasi python memiliki daftar besar pengecualian dan beberapa deskripsi tentang kapan dan mengapa pengecualian tersebut dapat dimunculkan.\n",
        "\n",
        "Sekarang kita mendapatkan pesan kesalahan yang jauh lebih berguna dari fungsi tersebut! Menggunakan `Raise` sangat penting bagi penulis pustaka, orang yang menulis modul python yang kita semua gunakan. Jika mereka memberikan pesan kesalahan yang berguna, maka akan membantu Anda sebagai pengguna akhir untuk memahami apa yang terjadi.\n",
        "\n",
        "\"https://docs.python.org/3/library/exceptions.html\"\n"
      ]
    },
    {
      "cell_type": "markdown",
      "id": "0762f161",
      "metadata": {},
      "source": [
        "#### **1.1. Try & Except**\n",
        "\n",
        "Mari kita lihat bagaimana Anda akan menangani salah satu dari pengecualian ini, kita akan melanjutkan dengan contoh `mean()` di atas."
      ]
    },
    {
      "cell_type": "code",
      "execution_count": null,
      "id": "cell-5",
      "metadata": {
        "attributes": {
          "classes": [
            "> <agenda-title></agenda-title>"
          ],
          "id": ""
        }
      },
      "outputs": [],
      "source": [
        "numbers = []\n",
        "try:\n",
        "    result = mean(numbers)\n",
        "    print(f\"Hasilnya adalah {result}.\")\n",
        "except ValueError:\n",
        "    print(\"Kami tidak dapat menghitung rata-rata.\")"
      ]
    },
    {
      "cell_type": "markdown",
      "id": "23f8e9df",
      "metadata": {},
      "source": [
        "Di sini kita menggunakan `try:` untuk menyiapkan blok baru, dan kode ini dicoba, Python akan mencoba mengeksekusinya. Di bawah ini adalah satu atau beberapa blok `except:` yang menangkap kesalahan tertentu. Di sini kita secara khusus mengatakan bahwa kita tahu ValueError dapat terjadi, dan memutuskan untuk menanganinya.\n",
        "\n",
        "Atau untuk contoh lain, mengakses file yang disediakan pengguna. Sering kali pengguna akan memanggil program Anda dan memberikan file yang tidak ada, atau tidak dapat diakses. Di sini Anda dapat menggunakan beberapa blok `except` untuk menangkap semua potensi kesalahan tersebut."
      ]
    },
    {
      "cell_type": "code",
      "execution_count": null,
      "id": "cell-7",
      "metadata": {
        "attributes": {
          "classes": [
            "> <agenda-title></agenda-title>"
          ],
          "id": ""
        }
      },
      "outputs": [],
      "source": [
        "user_supplied_file = 'does-not-exist.txt'\n",
        "try:\n",
        "    open(user_supplied_file, 'r')\n",
        "except FileNotFoundError:\n",
        "    print(f\"Alamat yang Anda berikan ({user_supplied_file}) tidak tersedia, harap periksa kembali!\")\n",
        "except PermissionError:\n",
        "    print(f\"Anda memberikan file yang valid, tetapi tidak dapat dibaca. Coba ubah izinnya dengan `chmod +r {user_supplied_file}`\")"
      ]
    },
    {
      "cell_type": "markdown",
      "id": "cell-8",
      "metadata": {
        "collapsed": false,
        "editable": false
      },
      "source": [
        "Kegagalan membuka file akan memunculkan `FileNotFoundError` yang mengindikasikan bahwa file tersebut tidak tersedia, dan `PermissionError` mengindikasikan bahwa file tersebut tidak dapat dibaca. Namun dalam praktiknya, terkadang Anda akan melihat sesuatu seperti ini:\n",
        "\n",
        "<div class=\"language-plaintext highlighter-rouge\"><div><pre style=\"color: inherit; background: transparent\"><code style=\"color: inherit\"># Bad!\n",
        "try:\n",
        "    doSomething()\n",
        "except:\n",
        "    print(\"error\")\n",
        "</code></pre></div></div>\n",
        "\n",
        "Ini disebut `a bare exception`, dan akan menangkap pengecualian apa pun, dibandingkan dengan `except ValueError` yang hanya menangkap kesalahan nilai. Orang-orang menganggap ini umumnya ide yang buruk, yang disebut sebagai bau kode (karena baunya (terlihat) tidak enak!)\n"
      ]
    },
    {
      "cell_type": "markdown",
      "id": "ccec76f2",
      "metadata": {},
      "source": [
        "#### **1.2. Finally**\n",
        "\n",
        "Bagian terakhir dari blok `try:`/`except:` adalah `finally:`, yaitu blok ketiga yang berfungsi untuk menentukan blok kode yang akan dieksekusi setelah blok try selesai dieksekusi. Dengan `finally` memungkinkan kita melakukan beberapa hal berikut:\n",
        "\n",
        "* Membersihkan atau melepaskan sumber daya yang telah digunakan dalam blok try, misalnya menutup file atau menutup koneksi database.\n",
        "\n",
        "* Menyelesaikan operasi tertentu yang harus dilakukan terlepas dari apakah terjadi pengecualian atau tidak. Contohnya, jika Anda melakukan logging, Anda dapat menempatkannya di dalam blok finally untuk memastikan bahwa itu akan selalu dieksekusi."
      ]
    },
    {
      "cell_type": "markdown",
      "id": "d7384dc3",
      "metadata": {},
      "source": [
        "Misalnya kita menjalankan sebuah query pada database, tapi di sini kita mengalami kesalahan sehingga hasilnya tidak valid. Jadi kita harus membersihkan file sementara `gene_query.fa` yang kita buat, agar tidak menyebabkan masalah atau mengalihkan perhatian user dari file hasil. "
      ]
    },
    {
      "cell_type": "code",
      "execution_count": null,
      "id": "cell-9",
      "metadata": {
        "attributes": {
          "classes": [
            "> <agenda-title></agenda-title>"
          ],
          "id": ""
        }
      },
      "outputs": [],
      "source": [
        "import os\n",
        "\n",
        "try:\n",
        "    with open('gene_query.fa', 'w') as handle:\n",
        "        handle.write(\">Beberapa urutan cepat yang ingin kita cari terhadap database....\")\n",
        "except:\n",
        "    # And now our results are invalid.\n",
        "    print(\"Ada yang tidak beres! Oh tidak! Periksa input Anda.\")\n",
        "finally:\n",
        "    # This function will delete a file from your computer\n",
        "    os.remove('gene_query.fa')"
      ]
    }
  ],
  "metadata": {
    "kernelspec": {
      "display_name": "Python 3",
      "language": "python",
      "name": "python3"
    },
    "language_info": {
      "codemirror_mode": {
        "name": "ipython",
        "version": 3
      },
      "file_extension": ".py",
      "mimetype": "text/x-python",
      "name": "python",
      "nbconvert_exporter": "python",
      "pygments_lexer": "ipython3",
      "version": "3.9.16"
    }
  },
  "nbformat": 4,
  "nbformat_minor": 5
}
