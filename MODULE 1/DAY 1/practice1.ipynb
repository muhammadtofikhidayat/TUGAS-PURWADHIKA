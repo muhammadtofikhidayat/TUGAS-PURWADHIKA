{
 "cells": [
  {
   "cell_type": "markdown",
   "metadata": {},
   "source": [
    "##Tugas 1\n",
    "\n",
    "Write a program to calculate the length of a person's first name.\n",
    "\n",
    "Input\n",
    "Enter your name: 'Shafanda Nabil Sembodo'\n",
    "\n",
    "Output\n",
    "The length of your first name letter: 8"
   ]
  },
  {
   "cell_type": "code",
   "execution_count": null,
   "metadata": {},
   "outputs": [],
   "source": [
    "name = input(\"Masukan nama anda : \")\n",
    "index_name = name.split()\n",
    "first_name = index_name[0]\n",
    "len_name = len(first_name)\n",
    "\n",
    "print(f\"The length of your first name letter: {len_name}\")"
   ]
  },
  {
   "cell_type": "markdown",
   "metadata": {},
   "source": [
    "##Tugas 2\n",
    "\n",
    "Write a program to retrieve the odd numbered characters of a person's name.\n",
    "\n",
    "Input\n",
    "Enter your name: 'Shafanda Nabil Sembodo'\n",
    "\n",
    "Output\n",
    "Your code: 'HFNANBLSMOO'"
   ]
  },
  {
   "cell_type": "code",
   "execution_count": null,
   "metadata": {},
   "outputs": [],
   "source": [
    "kata = input(\"Masukan Kata : \").upper()\n",
    "\n",
    "\n",
    "print(f\"Output: {kata[::2]}\")"
   ]
  },
  {
   "cell_type": "markdown",
   "metadata": {},
   "source": [
    "##Tugas 3\n",
    "\n",
    "Write a program that will give you the result of adding and reversing four-digit numbers.\n",
    "\n",
    "Input\n",
    "Enter the four digit number: 4567\n",
    "\n",
    "Output\n",
    "total: 22 reverse: 7654"
   ]
  },
  {
   "cell_type": "code",
   "execution_count": null,
   "metadata": {},
   "outputs": [],
   "source": [
    "angka = input(\"Masukan angka : \")\n",
    "\n",
    "new_angka = sum(int(x) for x in angka)\n",
    "angka_reverse = angka[::-1] \n",
    "print(f'''\n",
    "Total : {new_angka}\n",
    "Reverse : {angka_reverse}\n",
    "''') "
   ]
  },
  {
   "cell_type": "markdown",
   "metadata": {},
   "source": [
    "##Tugas 4\n",
    "\n",
    "Write a script that prompts the user to enter the coordinates of point (x, y). Find the slope and Euclidean distance between point (x1, y1) and point (x2, y2).\n",
    "\n",
    "Input\n",
    "Enter the coordinate of point A: 2, 5 Enter the coordinate of point B: 3, 7\n",
    "\n",
    "Output\n",
    "slope: 2 distance: 2.236\n",
    "\n",
    "distance rumus = d =√[(x 2 – x 1 ) 2 + (kamu 2 – kamu 1 ) 2 ] “d” adalah jarak Euclidean (x 1 , y 1 ) adalah koordinat titik pertama (x 2 , y 2 ) adalah koordinat titik kedua.\n",
    "\n",
    "slope rumus = (y 2 - y 1 )/(x 2 - x 1 )"
   ]
  },
  {
   "cell_type": "code",
   "execution_count": null,
   "metadata": {},
   "outputs": [],
   "source": [
    "import math as mt\n",
    "\n",
    "x1 = int(input(\"Enter the coordinate of point X1 : \"))\n",
    "y1 = int(input(\"Enter the coordinate of point Y1 : \"))\n",
    "x2 = int(input(\"Enter the coordinate of point X2 : \"))\n",
    "y2 = int(input(\"Enter the coordinate of point Y2 : \"))\n",
    "\n",
    "\n",
    "distance =  round(mt.sqrt(((x1-x2)**2) + ((y1-y2)**2)), 3)\n",
    "slop = int((y2 - y1) / (x2-x1))\n",
    "\n",
    "\n",
    "print(f'''\n",
    "         slope: {slop}\n",
    "         distance: {distance}\n",
    "''')"
   ]
  },
  {
   "cell_type": "markdown",
   "metadata": {},
   "source": [
    "##Tugas 5\n",
    "\n",
    "Write a python program to get a single string from two given strings, separated by a space and swap the first three characters of each string.\n",
    "\n",
    "Input\n",
    "Enter the sample string: 'purwa, dhika'\n",
    "\n",
    "Output\n",
    "expected result: 'dhiwa purka'"
   ]
  },
  {
   "cell_type": "code",
   "execution_count": null,
   "metadata": {},
   "outputs": [],
   "source": [
    "kata = input(\"Masukan kata : \")\n",
    "input_1, input_2 = kata.replace(\",\" , \"\").split()\n",
    "print(f'''\n",
    "         Enter the sample string: {kata}\n",
    "         expected result: {input_2[0:3]}{input_1[3:]} {input_1[0:3]}{input_2[3:]}\n",
    "''')"
   ]
  },
  {
   "cell_type": "markdown",
   "metadata": {},
   "source": [
    "##Tugas 7\n",
    "\n",
    "Given two strings. Write a program to create a new string by appending the second string in the middle of first string.\n",
    "\n",
    "Input\n",
    "Enter the first text: 'JCDS' Enter the second text: '0310'\n",
    "\n",
    "Output\n",
    "expected result: 'JC0310DS'"
   ]
  },
  {
   "cell_type": "code",
   "execution_count": null,
   "metadata": {},
   "outputs": [],
   "source": [
    "text_frist = input(\"Enter the first text: \")\n",
    "text_last = input(\"Enter the second text: \")\n",
    "\n",
    "text_frist = text_frist.replace(\" \" , \"\")\n",
    "text_last = text_last.replace(\" \" , \"\")\n",
    "\n",
    "text_frist = list(str(text_frist))\n",
    "text_frist2 = int(len(text_frist)/2)\n",
    "text_middle =text_frist[text_frist2]\n",
    "\n",
    "print(text_middle)"
   ]
  }
 ],
 "metadata": {
  "kernelspec": {
   "display_name": "Python 3",
   "language": "python",
   "name": "python3"
  },
  "language_info": {
   "name": "python",
   "version": "3.9.6"
  }
 },
 "nbformat": 4,
 "nbformat_minor": 2
}
