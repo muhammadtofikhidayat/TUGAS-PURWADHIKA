{
 "cells": [
  {
   "cell_type": "markdown",
   "metadata": {},
   "source": [
    "## Question #1\n",
    "\n",
    "Find a word in the string `spam`, see how many times it appears.\n",
    "\n",
    "# input: \n",
    "spam = 'ababaababbbbcccbabcc'\n",
    "word = 'bab'\n",
    "\n",
    "# output:\n",
    "'Appeard 3 times'"
   ]
  },
  {
   "cell_type": "code",
   "execution_count": 18,
   "metadata": {},
   "outputs": [
    {
     "name": "stdout",
     "output_type": "stream",
     "text": [
      "\n",
      "Appeard 3times\n",
      "\n"
     ]
    }
   ],
   "source": [
    "spam = input('Masukan kata Spam : ')\n",
    "word = input('Cek kata : ')\n",
    "count = 0\n",
    "                  \n",
    "for i in range(len(spam)):\n",
    "         if spam[i:i+3] == word:\n",
    "                  count +=1\n",
    "\n",
    "print(f'''\n",
    "Appeard {count} times\n",
    "''')\n"
   ]
  },
  {
   "cell_type": "markdown",
   "metadata": {},
   "source": [
    "## Question #2\n",
    "\n",
    "Count the number of `o` and `x` in the string `spam` (case sensitive), if they are equal, print `True`, otherwise print `False`.\n",
    "\n",
    "# input:\n",
    "spam = 'oOxxX'\n",
    "\n",
    "# output:\n",
    "False"
   ]
  },
  {
   "cell_type": "code",
   "execution_count": 40,
   "metadata": {},
   "outputs": [
    {
     "name": "stdout",
     "output_type": "stream",
     "text": [
      "False\n"
     ]
    }
   ],
   "source": [
    "spam = input('Masukan kata Spam : ')\n",
    "count_x = 0\n",
    "count_O = 0\n",
    "result = False\n",
    "\n",
    "for i in range(len(spam)):\n",
    "         if spam[i] == 'o':\n",
    "                  count_O += 1\n",
    "         elif spam[i] == 'x':\n",
    "                  count_x +=1\n",
    "\n",
    "if count_x == count_O :\n",
    "         result = True\n",
    "\n",
    "print (result)"
   ]
  },
  {
   "cell_type": "markdown",
   "metadata": {},
   "source": [
    "## Question #3\n",
    "\n",
    "A narcissistic number are numbers that can be represented by some kind of mathematical manipulation of their digits. A whole number, or integer, that is the sum of the *n*th powers of its digits (e.g., 153 = 1**3 + 5**3 + 3**3).\n",
    "\n"
   ]
  },
  {
   "cell_type": "code",
   "execution_count": 66,
   "metadata": {},
   "outputs": [
    {
     "name": "stdout",
     "output_type": "stream",
     "text": [
      "153 adalah naristik\n"
     ]
    }
   ],
   "source": [
    "num = input('cek angka : ')\n",
    "pangkat = len(num)\n",
    "result = 0 \n",
    "\n",
    "for i in num:\n",
    "         result += int(i)**pangkat\n",
    "\n",
    "if int(num) == result:\n",
    "         print(f'{num} adalah naristik')\n",
    "else:\n",
    "         print(f'{num} bukan naristik')\n",
    "\n"
   ]
  },
  {
   "cell_type": "markdown",
   "metadata": {},
   "source": [
    "This exercise continues our use of the modulo operator to determine if numbers are divisible by 3, 5, or both 3 and 5. Divisible by n, means that it can be divided by a number n with no remainder. For example, 10 is divisible by 5, but 11 is not divisible by 5.\n",
    "\n",
    "Write a simple program with a single integer variable named `upTo`. For the numbers 1 up to and including `upTo`, the function prints one of four things:\n",
    "\n",
    "- Prints `Fizz` if the number is only divisible by 3.\n",
    "- Prints `FizzBuzz` if the number is divisible by 3 and 5.\n",
    "- Prints `Buzz` if the number is only divisible by 5.\n",
    "- Prints the number if the number is neither divisible by 3 nor 5.\n",
    "\n",
    "Instead of printing each string or number on a separate line, print them without newlines. For\n",
    "example, your solution is correct if calling `upTo = 35` produces the following output:\n",
    "\n",
    "# input\n",
    "Enter a number (greater than 0) or QUIT: 35\n",
    "\n",
    "# output\n",
    "1 2 Fizz 4 Buzz Fizz 7 8 Fizz Buzz 11 Fizz 13 14 FizzBuzz 16 17 Fizz 19 Buzz Fizz 22\n",
    "23 Fizz Buzz 26 Fizz 28 29 FizzBuzz 31 32 Fizz 34 Buzz"
   ]
  },
  {
   "cell_type": "code",
   "execution_count": null,
   "metadata": {},
   "outputs": [],
   "source": [
    "num = input('input panjang number : ')\n",
    "\n",
    "for i in range(1,int(num)+1) :\n",
    "        if i%3 == 0 and i%5 == 0 :\n",
    "                print ('Fizz Buzz')\n",
    "        elif i%3 == 0 :\n",
    "                print('Fizz')\n",
    "        elif i%5 == 0 :\n",
    "                print ('Buzz')\n",
    "        else:\n",
    "                print(i)"
   ]
  },
  {
   "cell_type": "markdown",
   "metadata": {},
   "source": [
    "## Question #5\n",
    "\n",
    "Find-and-replace is a standard feature in text editors, IDEs, and word processor software. Even the Python language comes with a `replace()` string method since programs often use it. In this exercise, you’ll reimplement this common string operation.\n",
    "\n",
    "Write a simple program that has three main variable: \n",
    "\n",
    "- `text` is the string with text to be replaced\n",
    "- `oldText` is the text to be replaced\n",
    "- `newText` is the replacement text.\n",
    "\n",
    "Keep in mind that this function must be case-sensitive: if you are replacing 'fox' with 'dog', then the 'Fox' in ‘The Fox and fox' won’t be replaced. Your solution is correct if produce following output:\n",
    "\n",
    "# input\n",
    "text = 'The Fox and fox.'\n",
    "oldText = 'fox' \n",
    "newText = 'dog'\n",
    "\n",
    "# output\n",
    "'The Fox and dog.'"
   ]
  },
  {
   "cell_type": "code",
   "execution_count": 104,
   "metadata": {},
   "outputs": [
    {
     "name": "stdout",
     "output_type": "stream",
     "text": [
      "kata yang anda masukan tidak ada\n"
     ]
    }
   ],
   "source": [
    "kata = input('Masukan kata anda : ')\n",
    "kata_lama = str(input('Masukan kata yang akan diganti : '))\n",
    "kata_baru = str(input('Masukan kata yang diinginkan : '))\n",
    "\n",
    "kata_diganti = kata.replace(kata_lama,kata_baru)\n",
    "\n",
    "while True:\n",
    "         if kata_lama in kata:\n",
    "                  print(kata_diganti)\n",
    "                  break\n",
    "         else:\n",
    "                 print(f'kata yang anda masukan tidak ada di kata')\n",
    "                 break"
   ]
  },
  {
   "cell_type": "markdown",
   "metadata": {},
   "source": [
    "## Question #6\n",
    "\n",
    "The Collatz sequence, also called the 3n + 1 problem, is the simplest impossible math problem (But don’t worry, the program itself is easy enough for beginners). From a starting number, *n*, follow three rules to get the next number in the sequence:\n",
    "\n",
    "- If *n* is `even`, the next number *n* is *n* / 2.\n",
    "- If *n* is `odd`, the next number *n* is *n* * 3 + 1.\n",
    "- If *n* is `1`, stop. Otherwise, repeat.\n",
    "\n",
    "It is generally thought, but so far not mathematically proven, that every starting number eventually terminates at 1. Write a simple program that prompts the user to select a starting number or quit. When user run the program, and the output will look like this:\n",
    "\n",
    "# input\n",
    "Enter a starting number (greater than 0) or QUIT: 26\n",
    "\n",
    "# output\n",
    "26, 13, 40, 20, 10, 5, 16, 8, 4, 2, 1"
   ]
  },
  {
   "cell_type": "code",
   "execution_count": null,
   "metadata": {},
   "outputs": [],
   "source": [
    "n = int(input('Enter a starting number (greater than 0) or QUIT: 26'))\n",
    "print(n)\n",
    "while n > 1:\n",
    "    if n % 2 == 0 :\n",
    "        n = n//2\n",
    "        print (n)\n",
    "    else:\n",
    "        n = 3*n+1\n",
    "        print (n)"
   ]
  },
  {
   "cell_type": "markdown",
   "metadata": {},
   "source": [
    "## Question #7\n",
    "\n",
    "The Fibonacci sequence is a famous mathematical pattern credited to Italian mathematician Fibonacci in the 13th century (though others had discovered it even earlier). The sequence begins with 0 and 1, and the next number is always the sum of the previous two numbers. The sequence continues forever.\n",
    "\n",
    "0, 1, 1, 2, 3, 5, 8, 13, 21, 34, 55, 89, 144, 233, 377, 610, 987 . . .\n",
    "\n",
    "Because Fibonacci numbers quickly become very large, check if the user has entered a number that’s 100 or larger and displays a warning that it may take some time for the output to finish displaying on the screen. The warning in our program reminds the user they can always terminate the program by pressing CTRL-C. When you run the program, the output will look like this:\n",
    "\n",
    "# input\n",
    "Enter the Nth Fibonacci number you wish to calculate or QUIT to quit: 10\n",
    "\n",
    "# output\n",
    "0, 1, 1, 2, 3, 5, 8, 13, 21, 34"
   ]
  },
  {
   "cell_type": "code",
   "execution_count": 13,
   "metadata": {},
   "outputs": [
    {
     "name": "stdout",
     "output_type": "stream",
     "text": [
      "Deret Fibonacci: [0, 1, 1, 2, 3, 5, 8, 13, 21, 34]\n",
      "Keluar dari program.\n"
     ]
    }
   ],
   "source": [
    "while True:\n",
    "    user_input = input(\"Masukkan jumlah angka dalam deret Fibonacci (lebih dari 0) atau 'QUIT' untuk keluar: \")\n",
    "\n",
    "    if user_input.upper() == 'QUIT':\n",
    "        print(\"Keluar dari program.\")\n",
    "        break\n",
    "\n",
    "    if user_input.isdigit():\n",
    "        n = int(user_input)\n",
    "        if n > 0:\n",
    "            fib_sequence = [0, 1] \n",
    "\n",
    "            while len(fib_sequence) < n:\n",
    "                next_number = fib_sequence[-1] + fib_sequence[-2]\n",
    "                fib_sequence.append(next_number)  \n",
    "\n",
    "            print(\"Deret Fibonacci:\", fib_sequence)\n",
    "        else:\n",
    "            print(\"Masukkan angka yang lebih besar dari 0.\")\n",
    "    else:\n",
    "        print(\"Masukkan angka yang valid.\")\n"
   ]
  },
  {
   "cell_type": "markdown",
   "metadata": {},
   "source": [
    "## Question #8\n",
    "\n",
    "Write a simple program that can hack messages encrypted with the Caesar cipher, even if you don’t know the key. There are only 26 possible keys for the Caesar cipher, so a computer can easily try all possible decryptions and display the results to the user. In cryptography, we call this technique a *brute-force attack*. When you run the program, the output will look like this:\n",
    "\n",
    "# input\n",
    "Enter the message to hack: QIIX QI FC XLI VSWI FYWLIW XSRMKLX.\n",
    "\n",
    "# output\n",
    "Key #0: QIIX QI FC XLI VSWI FYWLIW XSRMKLX.\n",
    "Key #1: PHHW PH EB WKH URVH EXVKHV WRQLJKW. \n",
    "Key #2: OGGV OG DA VJG TQUG DWUJGU VQPKIJV. \n",
    "Key #3: NFFU NF CZ UIF SPTF CVTIFT UPOJHIU. \n",
    "Key #4: MEET ME BY THE ROSE BUSHES TONIGHT. \n",
    "Key #5: LDDS LD AX SGD QNRD ATRGDR SNMHFGS. \n",
    "Key #6: KCCR KC ZW RFC PMQC ZSQFCQ RMLGEFR. \n",
    "\n"
   ]
  },
  {
   "cell_type": "code",
   "execution_count": 19,
   "metadata": {},
   "outputs": [
    {
     "name": "stdout",
     "output_type": "stream",
     "text": [
      "Hasil katayang di Brute-force:\n",
      "Key #1: Aqtsd-enqbd\n",
      "Key #2: Zpsrc-dmpac\n",
      "Key #3: Yorqb-clozb\n",
      "Key #4: Xnqpa-bknya\n",
      "Key #5: Wmpoz-ajmxz\n"
     ]
    }
   ],
   "source": [
    "text = input(\"Masukan Kata yang akan di Acak\")\n",
    "\n",
    "print(\"Hasil katayang di Brute-force:\")\n",
    "for key in range(1, 6):\n",
    "    kata_baru = \"\"\n",
    "    for char in text:\n",
    "        if char.isalpha():\n",
    "            shifted_unicode = ord(char) - key\n",
    "            if char.islower():\n",
    "                if shifted_unicode < ord('a'):\n",
    "                    shifted_unicode += 26\n",
    "            elif char.isupper():\n",
    "                if shifted_unicode < ord('A'):\n",
    "                    shifted_unicode += 26\n",
    "            kata_baru += chr(shifted_unicode)\n",
    "        else:\n",
    "            kata_baru += char\n",
    "    print(f\"Key #{key}: {kata_baru}\")\n"
   ]
  }
 ],
 "metadata": {
  "kernelspec": {
   "display_name": "Python 3",
   "language": "python",
   "name": "python3"
  },
  "language_info": {
   "codemirror_mode": {
    "name": "ipython",
    "version": 3
   },
   "file_extension": ".py",
   "mimetype": "text/x-python",
   "name": "python",
   "nbconvert_exporter": "python",
   "pygments_lexer": "ipython3",
   "version": "3.9.6"
  }
 },
 "nbformat": 4,
 "nbformat_minor": 2
}
